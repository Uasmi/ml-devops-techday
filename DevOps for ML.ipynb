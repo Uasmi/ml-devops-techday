{
 "cells": [
  {
   "cell_type": "markdown",
   "metadata": {},
   "source": [
    "# DevOps for ML"
   ]
  },
  {
   "cell_type": "markdown",
   "metadata": {},
   "source": [
    "This Notebook is based on publicly available github repository about Azure ML Service: https://github.com/Azure/MachineLearningNotebooks\n",
    "\n",
    "Make sure you installed required libs, by running cell below"
   ]
  },
  {
   "cell_type": "code",
   "execution_count": null,
   "metadata": {},
   "outputs": [],
   "source": [
    "!pip install -r requriements.txt"
   ]
  },
  {
   "cell_type": "code",
   "execution_count": 19,
   "metadata": {},
   "outputs": [],
   "source": [
    "%matplotlib inline\n",
    "import numpy as np\n",
    "import os\n",
    "import matplotlib.pyplot as plt"
   ]
  },
  {
   "cell_type": "code",
   "execution_count": 27,
   "metadata": {},
   "outputs": [
    {
     "name": "stdout",
     "output_type": "stream",
     "text": [
      "Azure ML SDK Version:  1.0.21\n"
     ]
    }
   ],
   "source": [
    "import azureml\n",
    "from azureml.core import Workspace, Run\n",
    "\n",
    "# check core SDK version number\n",
    "print(\"Azure ML SDK Version: \", azureml.core.VERSION)"
   ]
  },
  {
   "cell_type": "code",
   "execution_count": 21,
   "metadata": {},
   "outputs": [
    {
     "name": "stdout",
     "output_type": "stream",
     "text": [
      "Turning diagnostics collection on. \n"
     ]
    }
   ],
   "source": [
    "from azureml.telemetry import set_diagnostics_collection\n",
    "\n",
    "set_diagnostics_collection(send_diagnostics=True)"
   ]
  },
  {
   "cell_type": "markdown",
   "metadata": {},
   "source": [
    "# Azure Machine Learning Workspace\n",
    "Now let's create a workspace configuration file. We will use that file to authenticate and run distributed learning jobs, submit models to model registry and build containers for later deployments."
   ]
  },
  {
   "cell_type": "code",
   "execution_count": 22,
   "metadata": {},
   "outputs": [],
   "source": [
    "import json\n",
    "\n",
    "   \n",
    "configFile = {\n",
    "    \"subscription_id\": \"",\n",
    "    \"resource_group\": \"\",\n",
    "    \"workspace_name\": \"\",\n",
    "    \"location\": \"\",\n",
    "    }\n",
    "\n",
    "with open('config.json', 'w') as outfile:  \n",
    "    json.dump(configFile, outfile)"
   ]
  },
  {
   "cell_type": "code",
   "execution_count": 23,
   "metadata": {},
   "outputs": [
    {
     "name": "stdout",
     "output_type": "stream",
     "text": [
      "Found the config file in: C:\\Users\\uanass\\Desktop\\localrepos\\ML DevOps\\config.json\n",
      "Workspace name: mlworkspace\n",
      "Azure region: westeurope\n",
      "Subscription id: a9069517-0f21-4c1f-9931-33e6ebe52ead\n",
      "Resource group: mlworkspacerg\n"
     ]
    }
   ],
   "source": [
    "ws = Workspace.from_config()\n",
    "print('Workspace name: ' + ws.name, \n",
    "      'Azure region: ' + ws.location, \n",
    "      'Subscription id: ' + ws.subscription_id, \n",
    "      'Resource group: ' + ws.resource_group, sep = '\\n')"
   ]
  },
  {
   "cell_type": "markdown",
   "metadata": {},
   "source": [
    "# Create an Azure ML Experiment"
   ]
  },
  {
   "cell_type": "markdown",
   "metadata": {},
   "source": [
    "Let's create an experiment named \"tf-mnist\" and a folder to hold the training scripts. The script runs will be recorded under the experiment in Azure."
   ]
  },
  {
   "cell_type": "code",
   "execution_count": 24,
   "metadata": {},
   "outputs": [],
   "source": [
    "from azureml.core import Experiment\n",
    "\n",
    "script_folder = './tf-mnist-devops'\n",
    "os.makedirs(script_folder, exist_ok=True)\n",
    "\n",
    "exp = Experiment(workspace=ws, name='tf-mnist-devops')"
   ]
  },
  {
   "cell_type": "markdown",
   "metadata": {},
   "source": [
    "Now let's download our MNIST dataset"
   ]
  },
  {
   "cell_type": "code",
   "execution_count": 8,
   "metadata": {},
   "outputs": [
    {
     "data": {
      "text/plain": [
       "('./data/mnist/test-labels.gz', <http.client.HTTPMessage at 0x20e9d6561d0>)"
      ]
     },
     "execution_count": 8,
     "metadata": {},
     "output_type": "execute_result"
    }
   ],
   "source": [
    "import urllib\n",
    "\n",
    "os.makedirs('./data/mnist', exist_ok=True)\n",
    "\n",
    "urllib.request.urlretrieve('http://yann.lecun.com/exdb/mnist/train-images-idx3-ubyte.gz', filename = './data/mnist/train-images.gz')\n",
    "urllib.request.urlretrieve('http://yann.lecun.com/exdb/mnist/train-labels-idx1-ubyte.gz', filename = './data/mnist/train-labels.gz')\n",
    "urllib.request.urlretrieve('http://yann.lecun.com/exdb/mnist/t10k-images-idx3-ubyte.gz', filename = './data/mnist/test-images.gz')\n",
    "urllib.request.urlretrieve('http://yann.lecun.com/exdb/mnist/t10k-labels-idx1-ubyte.gz', filename = './data/mnist/test-labels.gz')"
   ]
  },
  {
   "cell_type": "code",
   "execution_count": 9,
   "metadata": {},
   "outputs": [
    {
     "data": {
      "image/png": "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\n",
      "text/plain": [
       "<Figure size 1152x432 with 30 Axes>"
      ]
     },
     "metadata": {
      "needs_background": "light"
     },
     "output_type": "display_data"
    }
   ],
   "source": [
    "from utils import load_data\n",
    "\n",
    "# note we also shrink the intensity values (X) from 0-255 to 0-1. This helps the neural network converge faster.\n",
    "X_train = load_data('./data/mnist/train-images.gz', False) / 255.0\n",
    "y_train = load_data('./data/mnist/train-labels.gz', True).reshape(-1)\n",
    "\n",
    "X_test = load_data('./data/mnist/test-images.gz', False) / 255.0\n",
    "y_test = load_data('./data/mnist/test-labels.gz', True).reshape(-1)\n",
    "\n",
    "count = 0\n",
    "sample_size = 30\n",
    "plt.figure(figsize = (16, 6))\n",
    "for i in np.random.permutation(X_train.shape[0])[:sample_size]:\n",
    "    count = count + 1\n",
    "    plt.subplot(1, sample_size, count)\n",
    "    plt.axhline('')\n",
    "    plt.axvline('')\n",
    "    plt.text(x = 10, y = -10, s = y_train[i], fontsize = 18)\n",
    "    plt.imshow(X_train[i].reshape(28, 28), cmap = plt.cm.Greys)\n",
    "plt.show()"
   ]
  },
  {
   "cell_type": "markdown",
   "metadata": {},
   "source": [
    "# Upload MNIST dataset to default datastore\n",
    "\n",
    "Each workspace works with a datastore - Blob Storage or Azure Files, which Run can access and transfer data to compute target.\n",
    "For example, running this experiment locally on PC will require to tranfer the data to cloud storage. \n",
    "\n",
    "In this example we use default datastore, provided with workspace."
   ]
  },
  {
   "cell_type": "code",
   "execution_count": 10,
   "metadata": {},
   "outputs": [],
   "source": [
    "ds = ws.get_default_datastore()"
   ]
  },
  {
   "cell_type": "code",
   "execution_count": 11,
   "metadata": {},
   "outputs": [
    {
     "name": "stdout",
     "output_type": "stream",
     "text": [
      "Uploading ./data/mnist\\test-images.gz\n",
      "Uploading ./data/mnist\\test-labels.gz\n",
      "Uploaded ./data/mnist\\test-labels.gz, 1 files out of an estimated total of 4\n",
      "Uploading ./data/mnist\\train-images.gz\n",
      "Uploading ./data/mnist\\train-labels.gz\n",
      "Uploaded ./data/mnist\\train-labels.gz, 2 files out of an estimated total of 4\n",
      "Uploaded ./data/mnist\\test-images.gz, 3 files out of an estimated total of 4\n",
      "Uploaded ./data/mnist\\train-images.gz, 4 files out of an estimated total of 4\n"
     ]
    },
    {
     "data": {
      "text/plain": [
       "$AZUREML_DATAREFERENCE_f209c0f2805c431eb6a2ab671a9b7a45"
      ]
     },
     "execution_count": 11,
     "metadata": {},
     "output_type": "execute_result"
    }
   ],
   "source": [
    "ds.upload(src_dir='./data/mnist', target_path='mnist', overwrite=True, show_progress=True)"
   ]
  },
  {
   "cell_type": "markdown",
   "metadata": {},
   "source": [
    "# Provisioning the Compute Cluster\n",
    "\n",
    "To train the model we will use cluster of 4 NC6 GPU VMs."
   ]
  },
  {
   "cell_type": "code",
   "execution_count": 12,
   "metadata": {},
   "outputs": [
    {
     "name": "stdout",
     "output_type": "stream",
     "text": [
      "Found existing compute target\n",
      "{'currentNodeCount': 0, 'targetNodeCount': 0, 'nodeStateCounts': {'preparingNodeCount': 0, 'runningNodeCount': 0, 'idleNodeCount': 0, 'unusableNodeCount': 0, 'leavingNodeCount': 0, 'preemptedNodeCount': 0}, 'allocationState': 'Steady', 'allocationStateTransitionTime': '2018-12-20T15:28:50.116000+00:00', 'errors': None, 'creationTime': '2018-12-20T14:24:29.273175+00:00', 'modifiedTime': '2018-12-20T14:28:54.540859+00:00', 'provisioningState': 'Succeeded', 'provisioningStateTransitionTime': None, 'scaleSettings': {'minNodeCount': 0, 'maxNodeCount': 4, 'nodeIdleTimeBeforeScaleDown': 'PT120S'}, 'vmPriority': 'Dedicated', 'vmSize': 'STANDARD_NC6'}\n"
     ]
    }
   ],
   "source": [
    "from azureml.core.compute import ComputeTarget, AmlCompute\n",
    "from azureml.core.compute_target import ComputeTargetException\n",
    "\n",
    "# choose a name for your cluster\n",
    "cluster_name = \"gpucluster\"\n",
    "\n",
    "try:\n",
    "    compute_target = ComputeTarget(workspace=ws, name=cluster_name)\n",
    "    print('Found existing compute target')\n",
    "except ComputeTargetException:\n",
    "    print('Creating a new compute target...')\n",
    "    compute_config = AmlCompute.provisioning_configuration(vm_size='STANDARD_NC6', \n",
    "                                                           max_nodes=4)\n",
    "\n",
    "    # create the cluster\n",
    "    compute_target = ComputeTarget.create(ws, cluster_name, compute_config)\n",
    "\n",
    "    # can poll for a minimum number of nodes and for a specific timeout. \n",
    "    # if no min node count is provided it uses the scale settings for the cluster\n",
    "    compute_target.wait_for_completion(show_output=True, min_node_count=None, timeout_in_minutes=20)\n",
    "\n",
    "# use get_status() to get a detailed status for the current cluster. \n",
    "print(compute_target.get_status().serialize())"
   ]
  },
  {
   "cell_type": "markdown",
   "metadata": {},
   "source": [
    "To check available clusters run this command"
   ]
  },
  {
   "cell_type": "code",
   "execution_count": 13,
   "metadata": {},
   "outputs": [
    {
     "name": "stdout",
     "output_type": "stream",
     "text": [
      "gpucluster AmlCompute Succeeded\n",
      "cpucluster AmlCompute Succeeded\n"
     ]
    }
   ],
   "source": [
    "compute_targets = ws.compute_targets\n",
    "for name, ct in compute_targets.items():\n",
    "    print(name, ct.type, ct.provisioning_state)"
   ]
  },
  {
   "cell_type": "markdown",
   "metadata": {},
   "source": [
    "# Local training\n",
    "\n",
    "Next, we want to train our model locally to see if it works and tweek hyperparameters"
   ]
  },
  {
   "cell_type": "code",
   "execution_count": null,
   "metadata": {},
   "outputs": [],
   "source": [
    "#MNIST code here"
   ]
  },
  {
   "cell_type": "markdown",
   "metadata": {},
   "source": [
    "# Copy training script into script folder\n",
    "\n",
    "Below you can see training script loaded to script folder"
   ]
  },
  {
   "cell_type": "code",
   "execution_count": 17,
   "metadata": {},
   "outputs": [
    {
     "name": "stdout",
     "output_type": "stream",
     "text": [
      "Writing script_copy.py\n"
     ]
    }
   ],
   "source": [
    "%%writefile script_copy.py\n",
    "import shutil\n",
    "\n",
    "# the training logic is in the tf_mnist.py file.\n",
    "shutil.copy('./tf_mnist.py', script_folder)\n",
    "\n",
    "# the utils.py just helps loading data from the downloaded MNIST dataset into numpy arrays.\n",
    "shutil.copy('./utils.py', script_folder)"
   ]
  },
  {
   "cell_type": "markdown",
   "metadata": {},
   "source": [
    "# Azure ML concepts\n",
    "Please note the following three things in the code below:\n",
    "1. The script accepts arguments using the argparse package. In this case there is one argument --data_folder which specifies the file system folder in which the script can find the MNIST data \n",
    "\n",
    " ```parser = argparse.ArgumentParser()```\n",
    " \n",
    " ```parser.add_argument('--data_folder')```\n",
    " \n",
    " \n",
    "2. The script is accessing the Azure ML Run object by executing run = Run.get_context(). Further down the script is using the run to report the training accuracy and the validation accuracy as training progresses.\n",
    "\n",
    " ```run.log('training_acc', np.float(acc_train))```\n",
    " \n",
    " ```run.log('validation_acc', np.float(acc_val))```\n",
    " \n",
    " \n",
    "3. When running the script on Azure ML, you can write files out to a folder ./outputs that is relative to the root directory. This folder is specially tracked by Azure ML in the sense that any files written to that folder during script execution on the remote target will be picked up by Run History; these files (known as artifacts) will be available as part of the run history record."
   ]
  },
  {
   "cell_type": "markdown",
   "metadata": {},
   "source": [
    "# DevOps\n",
    "\n",
    "After we validated that our model works, we want to initialize our CI/CD pipelines that will end up updating our container without any downtime. \n",
    "We will start by switching to Azure DevOps and doing a pull request from our branch to master, which will trigger the final full data training and deployment to staging enviroment."
   ]
  },
  {
   "cell_type": "code",
   "execution_count": 37,
   "metadata": {},
   "outputs": [
    {
     "name": "stdout",
     "output_type": "stream",
     "text": [
      "Downloading from outputs/model/checkpoint to ./model\\checkpoint ...\n",
      "Downloading from outputs/model/model.ckpt.data-00000-of-00001 to ./model\\model.ckpt.data-00000-of-00001 ...\n",
      "Downloading from outputs/model/model.ckpt.index to ./model\\model.ckpt.index ...\n",
      "Downloading from outputs/model/model.ckpt.meta to ./model\\model.ckpt.meta ...\n"
     ]
    }
   ],
   "source": [
    "run_id = \"tf-mnist-devops_1554815816_c932c402\"\n",
    "experiment_name = \"tf-mnist-devops\"\n",
    "exp = Experiment(workspace=ws, name=experiment_name)\n",
    "\n",
    "run = Run(experiment=exp, run_id=run_id)\n",
    "\n",
    "os.makedirs('./model', exist_ok=True)\n",
    "\n",
    "for f in run.get_file_names():\n",
    "    if f.startswith('outputs/model'):\n",
    "        output_file_path = os.path.join('./model', f.split('/')[-1])\n",
    "        print('Downloading from {} to {} ...'.format(f, output_file_path))\n",
    "        run.download_file(name=f, output_file_path=output_file_path)"
   ]
  },
  {
   "cell_type": "code",
   "execution_count": 39,
   "metadata": {},
   "outputs": [
    {
     "name": "stdout",
     "output_type": "stream",
     "text": [
      "Collecting tf2onnx\n",
      "  Downloading https://files.pythonhosted.org/packages/fb/91/279e7520f9a7341ecd59f93893416098be6f125eaf571f5afbcb8e437c68/tf2onnx-1.4.1-py3-none-any.whl (123kB)\n",
      "Requirement already satisfied: numpy>=1.14.1 in c:\\users\\uanass\\.conda\\envs\\testvirtualenv\\lib\\site-packages (from tf2onnx) (1.16.2)\n",
      "Collecting onnx>=1.4.1 (from tf2onnx)\n",
      "  Downloading https://files.pythonhosted.org/packages/59/09/61f817a530cd9b9bd0e289bc9cda46f662fcda4dc1bd687b36d45365e3ea/onnx-1.4.1.tar.gz (2.9MB)\n",
      "    Complete output from command python setup.py egg_info:\n",
      "    fatal: not a git repository (or any of the parent directories): .git\n",
      "    Traceback (most recent call last):\n",
      "      File \"<string>\", line 1, in <module>\n",
      "      File \"C:\\Users\\uanass\\AppData\\Local\\Temp\\pip-install-q9t29mw0\\onnx\\setup.py\", line 71, in <module>\n",
      "        assert CMAKE, 'Could not find \"cmake\" executable!'\n",
      "    AssertionError: Could not find \"cmake\" executable!\n",
      "    \n",
      "    ----------------------------------------\n"
     ]
    },
    {
     "name": "stderr",
     "output_type": "stream",
     "text": [
      "Command \"python setup.py egg_info\" failed with error code 1 in C:\\Users\\uanass\\AppData\\Local\\Temp\\pip-install-q9t29mw0\\onnx\\\n"
     ]
    }
   ],
   "source": [
    "!pip install tf2onnx"
   ]
  },
  {
   "cell_type": "code",
   "execution_count": null,
   "metadata": {},
   "outputs": [],
   "source": [
    "import tensorflow as tf\n",
    "from onnx_tf.frontend import tensorflow_graph_to_onnx_model\n",
    "\n",
    "with tf.gfile.GFile(\"frozen_graph.pb\", \"rb\") as f:\n",
    "    graph_def = tf.GraphDef()\n",
    "    graph_def.ParseFromString(f.read())\n",
    "    onnx_model = tensorflow_graph_to_onnx_model(graph_def,\n",
    "                                     \"fc2/add\",\n",
    "                                     opset=6)\n",
    "\n",
    "    file = open(\"mnist.onnx\", \"wb\")\n",
    "    file.write(onnx_model.SerializeToString())\n",
    "    file.close()"
   ]
  }
 ],
 "metadata": {
  "kernelspec": {
   "display_name": "Python 3",
   "language": "python",
   "name": "python3"
  },
  "language_info": {
   "codemirror_mode": {
    "name": "ipython",
    "version": 3
   },
   "file_extension": ".py",
   "mimetype": "text/x-python",
   "name": "python",
   "nbconvert_exporter": "python",
   "pygments_lexer": "ipython3",
   "version": "3.7.2"
  }
 },
 "nbformat": 4,
 "nbformat_minor": 2
}
